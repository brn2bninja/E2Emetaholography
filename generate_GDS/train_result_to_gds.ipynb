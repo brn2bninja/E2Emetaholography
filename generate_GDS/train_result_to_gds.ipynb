{
 "cells": [
  {
   "cell_type": "code",
   "execution_count": 27,
   "metadata": {},
   "outputs": [],
   "source": [
    "import torch\n",
    "import math\n",
    "from gdstxtgen import *\n",
    "\n",
    "dir_base = '/home/linkle115/vscode_server/EEasih/project_logs/'\n",
    "dir_specific = 'test_0109_1751_result/'\n",
    "\n",
    "train_result = torch.load(dir_base + dir_specific + '199.pt')\n",
    "p = int(round(train_result['P'], -1))\n",
    "lw_norm = train_result['LW'].numpy()\n",
    "numP = train_result['NumP'].numpy() + 1\n",
    "data_dir =  '/home/linkle115/vscode_server/EEasih/fwdnet/gen_20241111/preprocessed/'\n",
    "geom_norm = (torch.load(data_dir + 'Geom_mean.pt')).numpy()\n",
    "geom_std = (torch.load(data_dir + 'Geom_std.pt')).numpy()\n",
    "lw = np.round(lw_norm * geom_std[[3,4]] + geom_norm[[3,4]], -1)\n",
    "rot = train_result['Rot'].numpy()\n",
    "\n",
    "num0 = int(math.sqrt(lw_norm.shape[0]))\n",
    "lw_2d = lw.reshape(num0, num0, 2)\n",
    "numP_2d = numP.reshape(num0, num0)\n",
    "rot_2d = rot.reshape(num0, num0)    \n",
    "\n",
    "gdstxtgen('e2e', rot_2d, p, ratio=1, version='lw_array', lw=lw_2d, numP=numP_2d)"
   ]
  }
 ],
 "metadata": {
  "kernelspec": {
   "display_name": "chinvd",
   "language": "python",
   "name": "python3"
  },
  "language_info": {
   "codemirror_mode": {
    "name": "ipython",
    "version": 3
   },
   "file_extension": ".py",
   "mimetype": "text/x-python",
   "name": "python",
   "nbconvert_exporter": "python",
   "pygments_lexer": "ipython3",
   "version": "3.11.5"
  }
 },
 "nbformat": 4,
 "nbformat_minor": 2
}
